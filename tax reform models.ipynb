{
 "cells": [
  {
   "cell_type": "code",
   "execution_count": 1,
   "metadata": {
    "collapsed": true
   },
   "outputs": [],
   "source": [
    "import pandas as pd\n",
    "import os\n",
    "import numpy as np\n",
    "import statsmodels.formula.api as sm\n",
    "import re\n",
    "\n",
    "%matplotlib inline\n",
    "import matplotlib.pyplot as plt\n",
    "\n",
    "data_path = \"C:/Users/SpiffyApple/Documents/USC/RaphaelBostic/LA Business Tax Reform\""
   ]
  },
  {
   "cell_type": "markdown",
   "metadata": {},
   "source": [
    "# Tax Reform Models:\n",
    "\n",
    "### Description\n",
    "In this notebook, we test a few linear model specifications for our examination on the 2004 LA business tax reform. \n",
    "\n",
    "### Models:\n",
    "1. log(price_per_sqft) ~ LA + 2005*LA + 2006*LA + ... 2012*LA and variations on time span\n",
    "2. log(price_per_sqft) ~ 1_variables + rooms+unit_stories+living_area_sqft+lot_size + (census tract level fixed effects)\n",
    "3. vary the distance from border parameter and re-test the above specifications\n",
    "4. log(price_per_sqft) - 2_variables + pop_size + median_income + college_educatd + poverty + race + homeownership"
   ]
  },
  {
   "cell_type": "code",
   "execution_count": 2,
   "metadata": {
    "collapsed": false
   },
   "outputs": [],
   "source": [
    "## data prep:\n",
    "df = pd.read_csv(\"/\".join([data_path,\"transactions_dist_cities.csv\"]), low_memory=False)\n",
    "df = df[df.transyear >= 1998]\n",
    "df['in_la'] = df.addr_city == 'LOS ANGELES'\n",
    "\n",
    "df.addr_city = df.addr_city.str.title()\n",
    "df['combo'] = df[['city_name', 'addr_city']].apply(lambda s: \"-\".join(s), axis=1)\n",
    "\n",
    "yr_dummies = pd.get_dummies(df.transyear)\n",
    "yr_dummies.columns = 'yr'+yr_dummies.columns.astype(str)\n",
    "df = pd.concat([df,yr_dummies],axis=1)"
   ]
  },
  {
   "cell_type": "code",
   "execution_count": 3,
   "metadata": {
    "collapsed": true
   },
   "outputs": [],
   "source": [
    "##add after 2004 dummy\n",
    "df.loc[:,'after04'] = 0\n",
    "df.loc[df.transyear>2004,'after04'] = 1"
   ]
  },
  {
   "cell_type": "code",
   "execution_count": 4,
   "metadata": {
    "collapsed": false
   },
   "outputs": [
    {
     "data": {
      "text/html": [
       "<div>\n",
       "<table border=\"1\" class=\"dataframe\">\n",
       "  <thead>\n",
       "    <tr style=\"text-align: right;\">\n",
       "      <th>addr_city</th>\n",
       "      <th>Agoura Hills</th>\n",
       "      <th>Alhambra</th>\n",
       "      <th>Arcadia</th>\n",
       "      <th>Bell</th>\n",
       "      <th>Bell Gardens</th>\n",
       "      <th>Bellflower</th>\n",
       "      <th>Burbank</th>\n",
       "      <th>Carson</th>\n",
       "      <th>Commerce</th>\n",
       "      <th>Compton</th>\n",
       "      <th>...</th>\n",
       "      <th>Rosemead</th>\n",
       "      <th>San Gabriel</th>\n",
       "      <th>San Marino</th>\n",
       "      <th>Sierra Madre</th>\n",
       "      <th>Signal Hill</th>\n",
       "      <th>South El Monte</th>\n",
       "      <th>South Gate</th>\n",
       "      <th>South Pasadena</th>\n",
       "      <th>Temple City</th>\n",
       "      <th>Vernon</th>\n",
       "    </tr>\n",
       "    <tr>\n",
       "      <th>transyear</th>\n",
       "      <th></th>\n",
       "      <th></th>\n",
       "      <th></th>\n",
       "      <th></th>\n",
       "      <th></th>\n",
       "      <th></th>\n",
       "      <th></th>\n",
       "      <th></th>\n",
       "      <th></th>\n",
       "      <th></th>\n",
       "      <th></th>\n",
       "      <th></th>\n",
       "      <th></th>\n",
       "      <th></th>\n",
       "      <th></th>\n",
       "      <th></th>\n",
       "      <th></th>\n",
       "      <th></th>\n",
       "      <th></th>\n",
       "      <th></th>\n",
       "      <th></th>\n",
       "    </tr>\n",
       "  </thead>\n",
       "  <tbody>\n",
       "    <tr>\n",
       "      <th>1998</th>\n",
       "      <td>4.0</td>\n",
       "      <td>56.0</td>\n",
       "      <td>11.0</td>\n",
       "      <td>19.0</td>\n",
       "      <td>16.0</td>\n",
       "      <td>2.0</td>\n",
       "      <td>113.0</td>\n",
       "      <td>52.0</td>\n",
       "      <td>26.0</td>\n",
       "      <td>106.0</td>\n",
       "      <td>...</td>\n",
       "      <td>22.0</td>\n",
       "      <td>2.0</td>\n",
       "      <td>5.0</td>\n",
       "      <td>5.0</td>\n",
       "      <td>38.0</td>\n",
       "      <td>48.0</td>\n",
       "      <td>38.0</td>\n",
       "      <td>5.0</td>\n",
       "      <td>10.0</td>\n",
       "      <td>39.0</td>\n",
       "    </tr>\n",
       "    <tr>\n",
       "      <th>1999</th>\n",
       "      <td>NaN</td>\n",
       "      <td>57.0</td>\n",
       "      <td>21.0</td>\n",
       "      <td>31.0</td>\n",
       "      <td>21.0</td>\n",
       "      <td>4.0</td>\n",
       "      <td>127.0</td>\n",
       "      <td>59.0</td>\n",
       "      <td>50.0</td>\n",
       "      <td>174.0</td>\n",
       "      <td>...</td>\n",
       "      <td>38.0</td>\n",
       "      <td>NaN</td>\n",
       "      <td>5.0</td>\n",
       "      <td>3.0</td>\n",
       "      <td>24.0</td>\n",
       "      <td>30.0</td>\n",
       "      <td>58.0</td>\n",
       "      <td>8.0</td>\n",
       "      <td>14.0</td>\n",
       "      <td>59.0</td>\n",
       "    </tr>\n",
       "    <tr>\n",
       "      <th>2000</th>\n",
       "      <td>NaN</td>\n",
       "      <td>47.0</td>\n",
       "      <td>4.0</td>\n",
       "      <td>19.0</td>\n",
       "      <td>24.0</td>\n",
       "      <td>NaN</td>\n",
       "      <td>120.0</td>\n",
       "      <td>39.0</td>\n",
       "      <td>46.0</td>\n",
       "      <td>102.0</td>\n",
       "      <td>...</td>\n",
       "      <td>35.0</td>\n",
       "      <td>1.0</td>\n",
       "      <td>5.0</td>\n",
       "      <td>3.0</td>\n",
       "      <td>23.0</td>\n",
       "      <td>39.0</td>\n",
       "      <td>65.0</td>\n",
       "      <td>15.0</td>\n",
       "      <td>18.0</td>\n",
       "      <td>48.0</td>\n",
       "    </tr>\n",
       "    <tr>\n",
       "      <th>2001</th>\n",
       "      <td>1.0</td>\n",
       "      <td>32.0</td>\n",
       "      <td>5.0</td>\n",
       "      <td>15.0</td>\n",
       "      <td>14.0</td>\n",
       "      <td>2.0</td>\n",
       "      <td>72.0</td>\n",
       "      <td>30.0</td>\n",
       "      <td>21.0</td>\n",
       "      <td>81.0</td>\n",
       "      <td>...</td>\n",
       "      <td>33.0</td>\n",
       "      <td>2.0</td>\n",
       "      <td>5.0</td>\n",
       "      <td>4.0</td>\n",
       "      <td>33.0</td>\n",
       "      <td>19.0</td>\n",
       "      <td>66.0</td>\n",
       "      <td>11.0</td>\n",
       "      <td>13.0</td>\n",
       "      <td>31.0</td>\n",
       "    </tr>\n",
       "    <tr>\n",
       "      <th>2002</th>\n",
       "      <td>NaN</td>\n",
       "      <td>76.0</td>\n",
       "      <td>5.0</td>\n",
       "      <td>25.0</td>\n",
       "      <td>23.0</td>\n",
       "      <td>NaN</td>\n",
       "      <td>101.0</td>\n",
       "      <td>36.0</td>\n",
       "      <td>28.0</td>\n",
       "      <td>113.0</td>\n",
       "      <td>...</td>\n",
       "      <td>46.0</td>\n",
       "      <td>NaN</td>\n",
       "      <td>5.0</td>\n",
       "      <td>3.0</td>\n",
       "      <td>23.0</td>\n",
       "      <td>21.0</td>\n",
       "      <td>42.0</td>\n",
       "      <td>10.0</td>\n",
       "      <td>23.0</td>\n",
       "      <td>22.0</td>\n",
       "    </tr>\n",
       "    <tr>\n",
       "      <th>2003</th>\n",
       "      <td>1.0</td>\n",
       "      <td>40.0</td>\n",
       "      <td>NaN</td>\n",
       "      <td>20.0</td>\n",
       "      <td>14.0</td>\n",
       "      <td>2.0</td>\n",
       "      <td>99.0</td>\n",
       "      <td>21.0</td>\n",
       "      <td>22.0</td>\n",
       "      <td>99.0</td>\n",
       "      <td>...</td>\n",
       "      <td>58.0</td>\n",
       "      <td>4.0</td>\n",
       "      <td>4.0</td>\n",
       "      <td>4.0</td>\n",
       "      <td>27.0</td>\n",
       "      <td>25.0</td>\n",
       "      <td>52.0</td>\n",
       "      <td>6.0</td>\n",
       "      <td>26.0</td>\n",
       "      <td>35.0</td>\n",
       "    </tr>\n",
       "    <tr>\n",
       "      <th>2004</th>\n",
       "      <td>NaN</td>\n",
       "      <td>58.0</td>\n",
       "      <td>6.0</td>\n",
       "      <td>18.0</td>\n",
       "      <td>15.0</td>\n",
       "      <td>NaN</td>\n",
       "      <td>110.0</td>\n",
       "      <td>33.0</td>\n",
       "      <td>36.0</td>\n",
       "      <td>135.0</td>\n",
       "      <td>...</td>\n",
       "      <td>50.0</td>\n",
       "      <td>2.0</td>\n",
       "      <td>6.0</td>\n",
       "      <td>2.0</td>\n",
       "      <td>43.0</td>\n",
       "      <td>42.0</td>\n",
       "      <td>55.0</td>\n",
       "      <td>9.0</td>\n",
       "      <td>19.0</td>\n",
       "      <td>55.0</td>\n",
       "    </tr>\n",
       "    <tr>\n",
       "      <th>2005</th>\n",
       "      <td>NaN</td>\n",
       "      <td>67.0</td>\n",
       "      <td>4.0</td>\n",
       "      <td>24.0</td>\n",
       "      <td>17.0</td>\n",
       "      <td>1.0</td>\n",
       "      <td>130.0</td>\n",
       "      <td>41.0</td>\n",
       "      <td>147.0</td>\n",
       "      <td>156.0</td>\n",
       "      <td>...</td>\n",
       "      <td>38.0</td>\n",
       "      <td>2.0</td>\n",
       "      <td>5.0</td>\n",
       "      <td>5.0</td>\n",
       "      <td>13.0</td>\n",
       "      <td>42.0</td>\n",
       "      <td>68.0</td>\n",
       "      <td>14.0</td>\n",
       "      <td>16.0</td>\n",
       "      <td>67.0</td>\n",
       "    </tr>\n",
       "    <tr>\n",
       "      <th>2006</th>\n",
       "      <td>NaN</td>\n",
       "      <td>47.0</td>\n",
       "      <td>4.0</td>\n",
       "      <td>15.0</td>\n",
       "      <td>23.0</td>\n",
       "      <td>2.0</td>\n",
       "      <td>97.0</td>\n",
       "      <td>40.0</td>\n",
       "      <td>47.0</td>\n",
       "      <td>138.0</td>\n",
       "      <td>...</td>\n",
       "      <td>45.0</td>\n",
       "      <td>4.0</td>\n",
       "      <td>2.0</td>\n",
       "      <td>6.0</td>\n",
       "      <td>32.0</td>\n",
       "      <td>16.0</td>\n",
       "      <td>38.0</td>\n",
       "      <td>9.0</td>\n",
       "      <td>11.0</td>\n",
       "      <td>64.0</td>\n",
       "    </tr>\n",
       "    <tr>\n",
       "      <th>2007</th>\n",
       "      <td>NaN</td>\n",
       "      <td>35.0</td>\n",
       "      <td>2.0</td>\n",
       "      <td>20.0</td>\n",
       "      <td>27.0</td>\n",
       "      <td>NaN</td>\n",
       "      <td>129.0</td>\n",
       "      <td>54.0</td>\n",
       "      <td>67.0</td>\n",
       "      <td>71.0</td>\n",
       "      <td>...</td>\n",
       "      <td>46.0</td>\n",
       "      <td>6.0</td>\n",
       "      <td>8.0</td>\n",
       "      <td>7.0</td>\n",
       "      <td>17.0</td>\n",
       "      <td>39.0</td>\n",
       "      <td>45.0</td>\n",
       "      <td>10.0</td>\n",
       "      <td>9.0</td>\n",
       "      <td>69.0</td>\n",
       "    </tr>\n",
       "    <tr>\n",
       "      <th>2008</th>\n",
       "      <td>NaN</td>\n",
       "      <td>32.0</td>\n",
       "      <td>1.0</td>\n",
       "      <td>7.0</td>\n",
       "      <td>19.0</td>\n",
       "      <td>2.0</td>\n",
       "      <td>87.0</td>\n",
       "      <td>45.0</td>\n",
       "      <td>26.0</td>\n",
       "      <td>64.0</td>\n",
       "      <td>...</td>\n",
       "      <td>21.0</td>\n",
       "      <td>3.0</td>\n",
       "      <td>2.0</td>\n",
       "      <td>4.0</td>\n",
       "      <td>13.0</td>\n",
       "      <td>24.0</td>\n",
       "      <td>33.0</td>\n",
       "      <td>6.0</td>\n",
       "      <td>10.0</td>\n",
       "      <td>55.0</td>\n",
       "    </tr>\n",
       "    <tr>\n",
       "      <th>2009</th>\n",
       "      <td>NaN</td>\n",
       "      <td>2.0</td>\n",
       "      <td>NaN</td>\n",
       "      <td>1.0</td>\n",
       "      <td>NaN</td>\n",
       "      <td>NaN</td>\n",
       "      <td>21.0</td>\n",
       "      <td>2.0</td>\n",
       "      <td>3408.0</td>\n",
       "      <td>11.0</td>\n",
       "      <td>...</td>\n",
       "      <td>NaN</td>\n",
       "      <td>NaN</td>\n",
       "      <td>3.0</td>\n",
       "      <td>NaN</td>\n",
       "      <td>1.0</td>\n",
       "      <td>3.0</td>\n",
       "      <td>5.0</td>\n",
       "      <td>1.0</td>\n",
       "      <td>1.0</td>\n",
       "      <td>2.0</td>\n",
       "    </tr>\n",
       "    <tr>\n",
       "      <th>2010</th>\n",
       "      <td>NaN</td>\n",
       "      <td>NaN</td>\n",
       "      <td>NaN</td>\n",
       "      <td>NaN</td>\n",
       "      <td>NaN</td>\n",
       "      <td>NaN</td>\n",
       "      <td>NaN</td>\n",
       "      <td>NaN</td>\n",
       "      <td>NaN</td>\n",
       "      <td>NaN</td>\n",
       "      <td>...</td>\n",
       "      <td>NaN</td>\n",
       "      <td>NaN</td>\n",
       "      <td>NaN</td>\n",
       "      <td>NaN</td>\n",
       "      <td>NaN</td>\n",
       "      <td>NaN</td>\n",
       "      <td>NaN</td>\n",
       "      <td>NaN</td>\n",
       "      <td>NaN</td>\n",
       "      <td>NaN</td>\n",
       "    </tr>\n",
       "    <tr>\n",
       "      <th>2011</th>\n",
       "      <td>NaN</td>\n",
       "      <td>NaN</td>\n",
       "      <td>NaN</td>\n",
       "      <td>NaN</td>\n",
       "      <td>NaN</td>\n",
       "      <td>NaN</td>\n",
       "      <td>NaN</td>\n",
       "      <td>NaN</td>\n",
       "      <td>NaN</td>\n",
       "      <td>NaN</td>\n",
       "      <td>...</td>\n",
       "      <td>NaN</td>\n",
       "      <td>NaN</td>\n",
       "      <td>NaN</td>\n",
       "      <td>NaN</td>\n",
       "      <td>NaN</td>\n",
       "      <td>NaN</td>\n",
       "      <td>NaN</td>\n",
       "      <td>NaN</td>\n",
       "      <td>NaN</td>\n",
       "      <td>NaN</td>\n",
       "    </tr>\n",
       "    <tr>\n",
       "      <th>2012</th>\n",
       "      <td>3.0</td>\n",
       "      <td>NaN</td>\n",
       "      <td>NaN</td>\n",
       "      <td>NaN</td>\n",
       "      <td>NaN</td>\n",
       "      <td>NaN</td>\n",
       "      <td>NaN</td>\n",
       "      <td>NaN</td>\n",
       "      <td>NaN</td>\n",
       "      <td>NaN</td>\n",
       "      <td>...</td>\n",
       "      <td>NaN</td>\n",
       "      <td>NaN</td>\n",
       "      <td>NaN</td>\n",
       "      <td>NaN</td>\n",
       "      <td>NaN</td>\n",
       "      <td>NaN</td>\n",
       "      <td>NaN</td>\n",
       "      <td>NaN</td>\n",
       "      <td>NaN</td>\n",
       "      <td>NaN</td>\n",
       "    </tr>\n",
       "  </tbody>\n",
       "</table>\n",
       "<p>15 rows × 43 columns</p>\n",
       "</div>"
      ],
      "text/plain": [
       "addr_city  Agoura Hills  Alhambra  Arcadia  Bell  Bell Gardens  Bellflower  \\\n",
       "transyear                                                                    \n",
       "1998                4.0      56.0     11.0  19.0          16.0         2.0   \n",
       "1999                NaN      57.0     21.0  31.0          21.0         4.0   \n",
       "2000                NaN      47.0      4.0  19.0          24.0         NaN   \n",
       "2001                1.0      32.0      5.0  15.0          14.0         2.0   \n",
       "2002                NaN      76.0      5.0  25.0          23.0         NaN   \n",
       "2003                1.0      40.0      NaN  20.0          14.0         2.0   \n",
       "2004                NaN      58.0      6.0  18.0          15.0         NaN   \n",
       "2005                NaN      67.0      4.0  24.0          17.0         1.0   \n",
       "2006                NaN      47.0      4.0  15.0          23.0         2.0   \n",
       "2007                NaN      35.0      2.0  20.0          27.0         NaN   \n",
       "2008                NaN      32.0      1.0   7.0          19.0         2.0   \n",
       "2009                NaN       2.0      NaN   1.0           NaN         NaN   \n",
       "2010                NaN       NaN      NaN   NaN           NaN         NaN   \n",
       "2011                NaN       NaN      NaN   NaN           NaN         NaN   \n",
       "2012                3.0       NaN      NaN   NaN           NaN         NaN   \n",
       "\n",
       "addr_city  Burbank  Carson  Commerce  Compton   ...    Rosemead  San Gabriel  \\\n",
       "transyear                                       ...                            \n",
       "1998         113.0    52.0      26.0    106.0   ...        22.0          2.0   \n",
       "1999         127.0    59.0      50.0    174.0   ...        38.0          NaN   \n",
       "2000         120.0    39.0      46.0    102.0   ...        35.0          1.0   \n",
       "2001          72.0    30.0      21.0     81.0   ...        33.0          2.0   \n",
       "2002         101.0    36.0      28.0    113.0   ...        46.0          NaN   \n",
       "2003          99.0    21.0      22.0     99.0   ...        58.0          4.0   \n",
       "2004         110.0    33.0      36.0    135.0   ...        50.0          2.0   \n",
       "2005         130.0    41.0     147.0    156.0   ...        38.0          2.0   \n",
       "2006          97.0    40.0      47.0    138.0   ...        45.0          4.0   \n",
       "2007         129.0    54.0      67.0     71.0   ...        46.0          6.0   \n",
       "2008          87.0    45.0      26.0     64.0   ...        21.0          3.0   \n",
       "2009          21.0     2.0    3408.0     11.0   ...         NaN          NaN   \n",
       "2010           NaN     NaN       NaN      NaN   ...         NaN          NaN   \n",
       "2011           NaN     NaN       NaN      NaN   ...         NaN          NaN   \n",
       "2012           NaN     NaN       NaN      NaN   ...         NaN          NaN   \n",
       "\n",
       "addr_city  San Marino  Sierra Madre  Signal Hill  South El Monte  South Gate  \\\n",
       "transyear                                                                      \n",
       "1998              5.0           5.0         38.0            48.0        38.0   \n",
       "1999              5.0           3.0         24.0            30.0        58.0   \n",
       "2000              5.0           3.0         23.0            39.0        65.0   \n",
       "2001              5.0           4.0         33.0            19.0        66.0   \n",
       "2002              5.0           3.0         23.0            21.0        42.0   \n",
       "2003              4.0           4.0         27.0            25.0        52.0   \n",
       "2004              6.0           2.0         43.0            42.0        55.0   \n",
       "2005              5.0           5.0         13.0            42.0        68.0   \n",
       "2006              2.0           6.0         32.0            16.0        38.0   \n",
       "2007              8.0           7.0         17.0            39.0        45.0   \n",
       "2008              2.0           4.0         13.0            24.0        33.0   \n",
       "2009              3.0           NaN          1.0             3.0         5.0   \n",
       "2010              NaN           NaN          NaN             NaN         NaN   \n",
       "2011              NaN           NaN          NaN             NaN         NaN   \n",
       "2012              NaN           NaN          NaN             NaN         NaN   \n",
       "\n",
       "addr_city  South Pasadena  Temple City  Vernon  \n",
       "transyear                                       \n",
       "1998                  5.0         10.0    39.0  \n",
       "1999                  8.0         14.0    59.0  \n",
       "2000                 15.0         18.0    48.0  \n",
       "2001                 11.0         13.0    31.0  \n",
       "2002                 10.0         23.0    22.0  \n",
       "2003                  6.0         26.0    35.0  \n",
       "2004                  9.0         19.0    55.0  \n",
       "2005                 14.0         16.0    67.0  \n",
       "2006                  9.0         11.0    64.0  \n",
       "2007                 10.0          9.0    69.0  \n",
       "2008                  6.0         10.0    55.0  \n",
       "2009                  1.0          1.0     2.0  \n",
       "2010                  NaN          NaN     NaN  \n",
       "2011                  NaN          NaN     NaN  \n",
       "2012                  NaN          NaN     NaN  \n",
       "\n",
       "[15 rows x 43 columns]"
      ]
     },
     "execution_count": 4,
     "metadata": {},
     "output_type": "execute_result"
    }
   ],
   "source": [
    "#check the number of transactions in each city per year\n",
    "\n",
    "freq_table = df[['transyear','addr_city', 'price_per_']].groupby(['transyear', 'addr_city']).count().unstack()\n",
    "freq_table.columns = freq_table.columns.droplevel(0)\n",
    "with open(\"/\".join([data_path, 'yearCitycounts.tex']), 'w+') as f:\n",
    "    f.write(freq_table.to_latex())\n",
    "\n",
    "cities_w_data4all = freq_table.columns[freq_table.apply(lambda col: col.isnull().any(), axis=0)]\n",
    "freq_table[cities_w_data4all]"
   ]
  },
  {
   "cell_type": "code",
   "execution_count": 58,
   "metadata": {
    "collapsed": false
   },
   "outputs": [],
   "source": [
    "#construct the pairwise dummies for the datasets\n",
    "pair_city_list = df.combo[df.combo.str.contains(\"Los Angeles\")].unique() #get array of paired cities\n",
    "pair_city_list = set([s+\"-Los Angeles\" for s in cities_w_data4all]).intersection(pair_city_list)\n",
    "\n",
    "pair_col_titles = [re.sub(\"\\s\", \"\",s)[:4]+\"Pair\" for s in pair_city_list] #make corresponding titles\n",
    "\n",
    "#make a dummy data frame to populate\n",
    "pairDums =pd.DataFrame(np.zeros((df.shape[0],len(pair_col_titles))),columns = pair_col_titles)\n",
    "pairDums.index = df.index\n",
    "\n",
    "#populate the dummies data frame\n",
    "for pair_city in pair_city_list:\n",
    "    colName = re.sub(\"\\s\", \"\",pair_city[:4])+\"Pair\"\n",
    "    pairDums.loc[df.addr_city.str.contains(pair_city[0]) | df.combo.str.contains(\"-\".join(pair_city)),colName] = 1"
   ]
  },
  {
   "cell_type": "code",
   "execution_count": 59,
   "metadata": {
    "collapsed": true
   },
   "outputs": [],
   "source": [
    "df = pd.concat([df, pairDums],axis=1)"
   ]
  },
  {
   "cell_type": "code",
   "execution_count": 47,
   "metadata": {
    "collapsed": false
   },
   "outputs": [
    {
     "name": "stdout",
     "output_type": "stream",
     "text": [
      "number of sales with price per sqft as 0: 6112\n"
     ]
    },
    {
     "data": {
      "text/html": [
       "<div>\n",
       "<table border=\"1\" class=\"dataframe\">\n",
       "  <thead>\n",
       "    <tr style=\"text-align: right;\">\n",
       "      <th></th>\n",
       "      <th>transyear</th>\n",
       "      <th>price_per_</th>\n",
       "      <th>addr_city</th>\n",
       "      <th>val_prop</th>\n",
       "      <th>taxdelinq</th>\n",
       "      <th>lot_size</th>\n",
       "      <th>use</th>\n",
       "    </tr>\n",
       "  </thead>\n",
       "  <tbody>\n",
       "    <tr>\n",
       "      <th>53631</th>\n",
       "      <td>2005</td>\n",
       "      <td>81692.023438</td>\n",
       "      <td>Los Angeles</td>\n",
       "      <td>190100</td>\n",
       "      <td>0.0</td>\n",
       "      <td>856.8829</td>\n",
       "      <td>COMMERCIAL</td>\n",
       "    </tr>\n",
       "    <tr>\n",
       "      <th>1927</th>\n",
       "      <td>2006</td>\n",
       "      <td>79976.242188</td>\n",
       "      <td>Rolling Hills Estates</td>\n",
       "      <td>2000</td>\n",
       "      <td>0.0</td>\n",
       "      <td>1195.7363</td>\n",
       "      <td>COMMERCIAL</td>\n",
       "    </tr>\n",
       "    <tr>\n",
       "      <th>54944</th>\n",
       "      <td>2005</td>\n",
       "      <td>32832.113281</td>\n",
       "      <td>Los Angeles</td>\n",
       "      <td>4768096</td>\n",
       "      <td>0.0</td>\n",
       "      <td>30457.9849</td>\n",
       "      <td>COMMERCIAL</td>\n",
       "    </tr>\n",
       "    <tr>\n",
       "      <th>11258</th>\n",
       "      <td>2005</td>\n",
       "      <td>29945.513672</td>\n",
       "      <td>Los Angeles</td>\n",
       "      <td>600100</td>\n",
       "      <td>0.0</td>\n",
       "      <td>2337.5956</td>\n",
       "      <td>COMMERCIAL</td>\n",
       "    </tr>\n",
       "    <tr>\n",
       "      <th>53636</th>\n",
       "      <td>2005</td>\n",
       "      <td>26446.183594</td>\n",
       "      <td>Los Angeles</td>\n",
       "      <td>640100</td>\n",
       "      <td>0.0</td>\n",
       "      <td>2646.9036</td>\n",
       "      <td>COMMERCIAL</td>\n",
       "    </tr>\n",
       "  </tbody>\n",
       "</table>\n",
       "</div>"
      ],
      "text/plain": [
       "       transyear    price_per_              addr_city  val_prop  taxdelinq  \\\n",
       "53631       2005  81692.023438            Los Angeles    190100        0.0   \n",
       "1927        2006  79976.242188  Rolling Hills Estates      2000        0.0   \n",
       "54944       2005  32832.113281            Los Angeles   4768096        0.0   \n",
       "11258       2005  29945.513672            Los Angeles    600100        0.0   \n",
       "53636       2005  26446.183594            Los Angeles    640100        0.0   \n",
       "\n",
       "         lot_size         use  \n",
       "53631    856.8829  COMMERCIAL  \n",
       "1927    1195.7363  COMMERCIAL  \n",
       "54944  30457.9849  COMMERCIAL  \n",
       "11258   2337.5956  COMMERCIAL  \n",
       "53636   2646.9036  COMMERCIAL  "
      ]
     },
     "execution_count": 47,
     "metadata": {},
     "output_type": "execute_result"
    }
   ],
   "source": [
    "print(\"number of sales with price per sqft as 0: %d\" %(df.price_per_ == 0).sum())\n",
    "cols = ['transyear', 'price_per_', 'addr_city', 'val_prop','taxdelinq','lot_size',\n",
    "        'use']\n",
    "df.sort_values(\"price_per_\", ascending=False)[cols].head()"
   ]
  },
  {
   "cell_type": "code",
   "execution_count": 75,
   "metadata": {
    "collapsed": false
   },
   "outputs": [
    {
     "data": {
      "text/plain": [
       "(6473, 207)"
      ]
     },
     "execution_count": 75,
     "metadata": {},
     "output_type": "execute_result"
    }
   ],
   "source": [
    "city_selection_str = \"|\".join(cities_w_data4all)\n",
    "df_sub = df[(df.Distance_1 <= 1000) & (df.Distance<=1000)& (df.price_per_  > 1) & (df.price_per_<5000) & df.price_per_.notnull() & df.addr_city.str.contains(city_selection_str)]  \n",
    "df_sub.shape"
   ]
  },
  {
   "cell_type": "code",
   "execution_count": null,
   "metadata": {
    "collapsed": false
   },
   "outputs": [],
   "source": []
  },
  {
   "cell_type": "code",
   "execution_count": null,
   "metadata": {
    "collapsed": false
   },
   "outputs": [],
   "source": [
    "#df_sub[['transyear','city', 'price_per_']].groupby(['transyear', 'city']).count().unstack()"
   ]
  },
  {
   "cell_type": "code",
   "execution_count": 84,
   "metadata": {
    "collapsed": false
   },
   "outputs": [
    {
     "data": {
      "text/plain": [
       "<matplotlib.legend.Legend at 0x1b8855359e8>"
      ]
     },
     "execution_count": 84,
     "metadata": {},
     "output_type": "execute_result"
    },
    {
     "data": {
      "image/png": "[encoded data removed]",
      "text/plain": [
       "<matplotlib.figure.Figure at 0x1b8855b5b00>"
      ]
     },
     "metadata": {},
     "output_type": "display_data"
    }
   ],
   "source": [
    "for label, group in df_sub[['x', 'y', 'in_la']].groupby('in_la'): \n",
    "    color = 'blue'\n",
    "    if label:\n",
    "        color = 'red'\n",
    "    plt.scatter(group.x, group.y, label = label, color=color)\n",
    "    \n",
    "plt.legend(loc= 'best')"
   ]
  },
  {
   "cell_type": "code",
   "execution_count": 85,
   "metadata": {
    "collapsed": false
   },
   "outputs": [
    {
     "name": "stdout",
     "output_type": "stream",
     "text": [
      "Number of locations in LA: 3352\n",
      "NUmber of loactions outside of LA: 3121\n"
     ]
    }
   ],
   "source": [
    "print(\"Number of locations in LA: %d\" %df_sub.in_la.sum())\n",
    "print(\"NUmber of loactions outside of LA: %d\" %(df_sub.shape[0]-df_sub.in_la.sum()))"
   ]
  },
  {
   "cell_type": "markdown",
   "metadata": {},
   "source": [
    "## Model 1:\n",
    "1. log(price_per_sqft) ~ LA + 2005*LA + 2006*LA + ... 2012*LA and variations on time span"
   ]
  },
  {
   "cell_type": "code",
   "execution_count": 86,
   "metadata": {
    "collapsed": false
   },
   "outputs": [
    {
     "name": "stdout",
     "output_type": "stream",
     "text": [
      "np.log(price_per_)~in_la*yr2005+in_la*yr2006+in_la*yr2007+in_la*yr2008+in_la*yr2009+in_la*yr2010+in_la*yr2011+in_la*yr2012+yr2000+yr2001+yr2002+yr2003+yr2004\n"
     ]
    }
   ],
   "source": [
    "form1 = 'np.log(price_per_)~' + \"+\".join(['in_la*yr'+str(n) for n in range(2005,2013)])\n",
    "form1 = form1 + \"+\" + \"+\".join(['yr'+str(y) for y in range(2000,2005)])\n",
    "print(form1)"
   ]
  },
  {
   "cell_type": "code",
   "execution_count": 87,
   "metadata": {
    "collapsed": false
   },
   "outputs": [
    {
     "name": "stdout",
     "output_type": "stream",
     "text": [
      "                            OLS Regression Results                            \n",
      "==============================================================================\n",
      "Dep. Variable:     np.log(price_per_)   R-squared:                       0.095\n",
      "Model:                            OLS   Adj. R-squared:                  0.092\n",
      "Method:                 Least Squares   F-statistic:                     30.91\n",
      "Date:                Mon, 17 Apr 2017   Prob (F-statistic):          9.13e-123\n",
      "Time:                        23:54:28   Log-Likelihood:                -11001.\n",
      "No. Observations:                6473   AIC:                         2.205e+04\n",
      "Df Residuals:                    6450   BIC:                         2.220e+04\n",
      "Df Model:                          22                                         \n",
      "Covariance Type:            nonrobust                                         \n",
      "========================================================================================\n",
      "                           coef    std err          t      P>|t|      [95.0% Conf. Int.]\n",
      "----------------------------------------------------------------------------------------\n",
      "Intercept                4.1271      0.047     87.371      0.000         4.035     4.220\n",
      "in_la[T.True]           -0.0018      0.047     -0.038      0.970        -0.094     0.090\n",
      "yr2005                   0.5007      0.088      5.695      0.000         0.328     0.673\n",
      "in_la[T.True]:yr2005    -0.0817      0.112     -0.727      0.468        -0.302     0.139\n",
      "yr2006                   0.6801      0.108      6.317      0.000         0.469     0.891\n",
      "in_la[T.True]:yr2006    -0.1756      0.135     -1.303      0.192        -0.440     0.089\n",
      "yr2007                   1.0622      0.093     11.436      0.000         0.880     1.244\n",
      "in_la[T.True]:yr2007     0.0576      0.119      0.485      0.628        -0.175     0.290\n",
      "yr2008                   0.7524      0.104      7.236      0.000         0.549     0.956\n",
      "in_la[T.True]:yr2008     0.1325      0.137      0.965      0.335        -0.137     0.402\n",
      "yr2009                   0.2792      0.131      2.133      0.033         0.023     0.536\n",
      "in_la[T.True]:yr2009     0.2431      0.197      1.234      0.217        -0.143     0.629\n",
      "yr2010                   0.8885      0.121      7.370      0.000         0.652     1.125\n",
      "in_la[T.True]:yr2010    -0.1952      0.193     -1.010      0.313        -0.574     0.184\n",
      "yr2011                   0.8145      0.113      7.227      0.000         0.594     1.035\n",
      "in_la[T.True]:yr2011    -0.0842      0.156     -0.538      0.591        -0.391     0.223\n",
      "yr2012                   0.8730      0.104      8.379      0.000         0.669     1.077\n",
      "in_la[T.True]:yr2012    -0.0528      0.143     -0.369      0.712        -0.333     0.228\n",
      "yr2000                  -0.2723      0.073     -3.755      0.000        -0.414    -0.130\n",
      "yr2001                  -0.0478      0.081     -0.594      0.553        -0.206     0.110\n",
      "yr2002                  -0.1251      0.077     -1.633      0.102        -0.275     0.025\n",
      "yr2003                   0.0167      0.078      0.213      0.831        -0.137     0.170\n",
      "yr2004                   0.1857      0.074      2.512      0.012         0.041     0.331\n",
      "==============================================================================\n",
      "Omnibus:                       30.851   Durbin-Watson:                   0.985\n",
      "Prob(Omnibus):                  0.000   Jarque-Bera (JB):               42.954\n",
      "Skew:                          -0.013   Prob(JB):                     4.71e-10\n",
      "Kurtosis:                       3.398   Cond. No.                         17.5\n",
      "==============================================================================\n",
      "\n",
      "Warnings:\n",
      "[1] Standard Errors assume that the covariance matrix of the errors is correctly specified.\n"
     ]
    }
   ],
   "source": [
    "result = sm.ols(formula=form1, data=df_sub).fit()\n",
    "print(result.summary())\n",
    "\n",
    "with open(\"/\".join([data_path,\"model1.tex\"]), 'w+') as f:\n",
    "    f.write(re.sub(\"_\", \"\\_\",result.summary().as_latex()))"
   ]
  },
  {
   "cell_type": "markdown",
   "metadata": {},
   "source": [
    "## Model 2:\n",
    "log(price_per_sqft) ~ 1_variables + rooms+unit_stories+living_area_sqft+lot_size + (census tract level fixed effects)"
   ]
  },
  {
   "cell_type": "code",
   "execution_count": 88,
   "metadata": {
    "collapsed": true
   },
   "outputs": [],
   "source": [
    "#,'yrbuilt','lot_size'#'baths','bedrooms','rooms','stories','units',\n",
    "form2 = form1 +'+' +\"+\".join(['baths','bedrooms','rooms','stories','units'])"
   ]
  },
  {
   "cell_type": "code",
   "execution_count": 89,
   "metadata": {
    "collapsed": false
   },
   "outputs": [
    {
     "name": "stdout",
     "output_type": "stream",
     "text": [
      "                            OLS Regression Results                            \n",
      "==============================================================================\n",
      "Dep. Variable:     np.log(price_per_)   R-squared:                       0.098\n",
      "Model:                            OLS   Adj. R-squared:                  0.094\n",
      "Method:                 Least Squares   F-statistic:                     25.92\n",
      "Date:                Mon, 17 Apr 2017   Prob (F-statistic):          5.99e-123\n",
      "Time:                        23:54:59   Log-Likelihood:                -10992.\n",
      "No. Observations:                6473   AIC:                         2.204e+04\n",
      "Df Residuals:                    6445   BIC:                         2.223e+04\n",
      "Df Model:                          27                                         \n",
      "Covariance Type:            nonrobust                                         \n",
      "========================================================================================\n",
      "                           coef    std err          t      P>|t|      [95.0% Conf. Int.]\n",
      "----------------------------------------------------------------------------------------\n",
      "Intercept                4.1189      0.047     87.196      0.000         4.026     4.211\n",
      "in_la[T.True]           -0.0020      0.047     -0.043      0.966        -0.094     0.090\n",
      "yr2005                   0.5008      0.088      5.697      0.000         0.328     0.673\n",
      "in_la[T.True]:yr2005    -0.0823      0.112     -0.732      0.464        -0.303     0.138\n",
      "yr2006                   0.6717      0.108      6.240      0.000         0.461     0.883\n",
      "in_la[T.True]:yr2006    -0.1767      0.135     -1.312      0.190        -0.441     0.087\n",
      "yr2007                   1.0641      0.093     11.466      0.000         0.882     1.246\n",
      "in_la[T.True]:yr2007     0.0458      0.119      0.387      0.699        -0.187     0.278\n",
      "yr2008                   0.7527      0.104      7.245      0.000         0.549     0.956\n",
      "in_la[T.True]:yr2008     0.1251      0.137      0.912      0.362        -0.144     0.394\n",
      "yr2009                   0.2774      0.131      2.121      0.034         0.021     0.534\n",
      "in_la[T.True]:yr2009     0.2461      0.197      1.250      0.211        -0.140     0.632\n",
      "yr2010                   0.8871      0.120      7.363      0.000         0.651     1.123\n",
      "in_la[T.True]:yr2010    -0.2154      0.193     -1.114      0.265        -0.594     0.164\n",
      "yr2011                   0.8115      0.113      7.207      0.000         0.591     1.032\n",
      "in_la[T.True]:yr2011    -0.0831      0.156     -0.531      0.595        -0.390     0.223\n",
      "yr2012                   0.8755      0.104      8.412      0.000         0.671     1.080\n",
      "in_la[T.True]:yr2012    -0.0705      0.143     -0.494      0.622        -0.351     0.210\n",
      "yr2000                  -0.2710      0.072     -3.741      0.000        -0.413    -0.129\n",
      "yr2001                  -0.0493      0.080     -0.613      0.540        -0.207     0.108\n",
      "yr2002                  -0.1317      0.077     -1.720      0.085        -0.282     0.018\n",
      "yr2003                   0.0154      0.078      0.197      0.844        -0.138     0.169\n",
      "yr2004                   0.1853      0.074      2.508      0.012         0.040     0.330\n",
      "baths                    0.0144      0.010      1.408      0.159        -0.006     0.034\n",
      "bedrooms                -0.0015      0.011     -0.134      0.893        -0.023     0.020\n",
      "rooms                    0.0186      0.057      0.325      0.746        -0.094     0.131\n",
      "stories                 -0.0848      0.381     -0.223      0.824        -0.832     0.662\n",
      "units                    0.0013      0.001      2.576      0.010         0.000     0.002\n",
      "==============================================================================\n",
      "Omnibus:                       32.415   Durbin-Watson:                   0.988\n",
      "Prob(Omnibus):                  0.000   Jarque-Bera (JB):               45.670\n",
      "Skew:                          -0.007   Prob(JB):                     1.21e-10\n",
      "Kurtosis:                       3.411   Cond. No.                         765.\n",
      "==============================================================================\n",
      "\n",
      "Warnings:\n",
      "[1] Standard Errors assume that the covariance matrix of the errors is correctly specified.\n"
     ]
    }
   ],
   "source": [
    "#fit the above model\n",
    "result = sm.ols(formula=form2, data=df_sub).fit()\n",
    "print(result.summary())\n",
    "with open(\"/\".join([data_path, 'model2.tex']), 'w+') as f:\n",
    "    f.write(re.sub(\"_\", \"\\_\",result.summary().as_latex()))"
   ]
  },
  {
   "cell_type": "markdown",
   "metadata": {
    "collapsed": false
   },
   "source": [
    "## Model 3\n",
    "log(price_per_sqft) - 2_variables + pop_size + median_income + college_educatd + poverty + race + homeownership\n",
    "\n",
    "#### Note: For the above, I load an augmented dataset"
   ]
  },
  {
   "cell_type": "code",
   "execution_count": 90,
   "metadata": {
    "collapsed": false
   },
   "outputs": [],
   "source": [
    "## data prep:\n",
    "df = pd.read_csv(\"/\".join([data_path,\"transactions_acs.csv\"]))\n",
    "df = df[(df.transyear >= 2000) & (df.transyear<2010)]\n",
    "df['in_la'] = df.addr_city == 'LOS ANGELES'\n",
    "\n",
    "df.addr_city = df.addr_city.str.title()\n",
    "df['combo'] = df[['city_name', 'addr_city']].apply(lambda s: \"-\".join(s), axis=1)\n",
    "\n",
    "df['la-other'] = (df['addr_city'] == 'Los Angeles')\n",
    "df['other-other'] = (df['addr_city'] == df['city_name'])\n",
    "df['combo_bool'] = df['la-other'] | df['other-other']\n",
    "\n",
    "yr_dummies = pd.get_dummies(df.transyear)\n",
    "yr_dummies.columns = 'yr'+yr_dummies.columns.astype(str)\n",
    "df = pd.concat([df,yr_dummies],axis=1)"
   ]
  },
  {
   "cell_type": "code",
   "execution_count": 91,
   "metadata": {
    "collapsed": false
   },
   "outputs": [],
   "source": [
    "#find cities that are in the ACS and transactions data after 2000 (year of Census which samples at all locations)\n",
    "acs_cities = df.loc[(~df.place.isnull()) & (df.transyear>=2000),'addr_city'].unique()[1:]\n",
    "\n",
    "acs_cities_la = [s+\"-Los Angeles\" for s in acs_cities]"
   ]
  },
  {
   "cell_type": "code",
   "execution_count": null,
   "metadata": {
    "collapsed": false
   },
   "outputs": [],
   "source": []
  },
  {
   "cell_type": "code",
   "execution_count": 92,
   "metadata": {
    "collapsed": false
   },
   "outputs": [
    {
     "name": "stdout",
     "output_type": "stream",
     "text": [
      "City combos available after elimination\n",
      "['Hidden Hills-Calabasas' 'Rancho Palos Verdes-Los Angeles'\n",
      " 'Rancho Palos Verdes-Rancho Palos Verdes' 'Lomita-Lomita'\n",
      " 'Lomita-Los Angeles' 'Long Beach-Los Angeles' 'Long Beach-Long Beach'\n",
      " 'Carson-Los Angeles' 'Carson-Torrance' 'Carson-Carson' 'Carson-Gardena'\n",
      " 'Carson-Long Beach' 'Torrance-Torrance' 'Torrance-Los Angeles'\n",
      " 'Gardena-Torrance' 'Gardena-Gardena' 'Gardena-Los Angeles'\n",
      " 'Compton-Los Angeles' 'Compton-Compton' 'El Segundo-El Segundo'\n",
      " 'El Segundo-Inglewood' 'Hawthorne-Inglewood' 'Hawthorne-Los Angeles'\n",
      " 'Hawthorne-Hawthorne' 'Lynwood-Los Angeles' 'Lynwood-South Gate'\n",
      " 'Lynwood-Lynwood' 'South Gate-Los Angeles' 'South Gate-South Gate'\n",
      " 'Inglewood-Inglewood' 'Inglewood-Los Angeles'\n",
      " 'Huntington Park-Los Angeles' 'Huntington Park-Huntington Park'\n",
      " 'Huntington Park-Vernon' 'Vernon-Vernon' 'Vernon-Los Angeles'\n",
      " 'Commerce-Los Angeles' 'Santa Monica-Los Angeles'\n",
      " 'Santa Monica-Santa Monica' 'Monterey Park-Los Angeles'\n",
      " 'West Hollywood-Los Angeles' 'West Hollywood-West Hollywood'\n",
      " 'Alhambra-Alhambra' 'Alhambra-Los Angeles' 'Beverly Hills-Los Angeles'\n",
      " 'Beverly Hills-Beverly Hills' 'South Pasadena-South Pasadena'\n",
      " 'South Pasadena-Los Angeles' 'Calabasas-Calabasas' 'Calabasas-Los Angeles'\n",
      " 'Burbank-Los Angeles' 'Burbank-Burbank']\n"
     ]
    }
   ],
   "source": [
    "#subsample as before but now utilizing the acs cities\n",
    "conds_indx_out = (df.Distance_1 <= 1000) & (df.Distance<=1000) & (df.price_per_  > 1) & (df.price_per_<5000) & (df.price_per_.notnull()) & (df.place.notnull()) & (df.addr_city.str.contains(\"|\".join(acs_cities)))\n",
    "conds_indx_in = (df.Distance_1 <= 1000) & (df.Distance<=1000) & (df.price_per_  > 1) & (df.price_per_<5000) & (df.price_per_.notnull()) & (df.place.notnull())  & (df.combo.str.contains('|'.join(acs_cities_la)))\n",
    "\n",
    "conds_indx = conds_indx_out | conds_indx_in\n",
    "\n",
    "print(\"City combos available after elimination\")\n",
    "print((df.combo)[conds_indx].unique())\n",
    "\n",
    "df_sub = df[conds_indx]\n",
    "df_sub = df_sub[~df_sub.addr_city.str.contains(\"Compton|South Pasadena\")]"
   ]
  },
  {
   "cell_type": "code",
   "execution_count": 93,
   "metadata": {
    "collapsed": false
   },
   "outputs": [],
   "source": [
    "cities_w_trans = ['burbank','inglewood', 'long beach','santa monica','torrance']\n",
    "pd.get_dummies(df_sub.place)[cities_w_trans]\n",
    "df_sub = pd.concat([df_sub,pd.get_dummies(df_sub.place)[cities_w_trans]], axis=1)\n",
    "df_sub.columns = df_sub.columns.str.replace(\" \", \"_\")"
   ]
  },
  {
   "cell_type": "code",
   "execution_count": 94,
   "metadata": {
    "collapsed": false
   },
   "outputs": [
    {
     "name": "stdout",
     "output_type": "stream",
     "text": [
      "Number of locations in LA: 2359\n",
      "NUmber of loactions outside of LA: 1673\n",
      "Number of sample points: 4032\n"
     ]
    },
    {
     "data": {
      "image/png": "[encoded data removed]",
      "text/plain": [
       "<matplotlib.figure.Figure at 0x1b885568b70>"
      ]
     },
     "metadata": {},
     "output_type": "display_data"
    }
   ],
   "source": [
    "fig, ax = plt.subplots(figsize = (13,13))\n",
    "for label, group in df_sub[['x', 'y', 'in_la']].groupby('in_la'): \n",
    "    color = 'blue'\n",
    "    if label:\n",
    "        color = 'red'\n",
    "    plt.scatter(group.x, group.y, label = label, color=color)\n",
    "    \n",
    "plt.legend(loc= 'best')\n",
    "plt.title(\"Transactions between 2000 and 2010 around LA's borders\")\n",
    "plt.savefig(\"/\".join([data_path, 'reduced_LA_map.png']))\n",
    "\n",
    "print(\"Number of locations in LA: %d\" %df_sub.in_la.sum())\n",
    "print(\"NUmber of loactions outside of LA: %d\" %(df_sub.shape[0]-df_sub.in_la.sum()))\n",
    "print(\"Number of sample points: %d\" %(df_sub.shape[0]))"
   ]
  },
  {
   "cell_type": "code",
   "execution_count": 95,
   "metadata": {
    "collapsed": true
   },
   "outputs": [],
   "source": [
    "form1 = 'np.log(price_per_)~' + \"+\".join(['in_la*yr'+str(n) for n in range(2005,2010)])\n",
    "form1 = form1 + \"+\" + \"+\".join(['yr'+str(y) for y in range(2001,2005)])\n",
    "form2 = form1 +'+' +\"+\".join(['baths','bedrooms','rooms','stories','units'])"
   ]
  },
  {
   "cell_type": "code",
   "execution_count": 96,
   "metadata": {
    "collapsed": false
   },
   "outputs": [
    {
     "data": {
      "text/plain": [
       "'np.log(price_per_)~in_la*yr2005+in_la*yr2006+in_la*yr2007+in_la*yr2008+in_la*yr2009+yr2001+yr2002+yr2003+yr2004+baths+bedrooms+rooms+stories+units+prop_asian+prop_black+prop_college_edu+poverty_rate+ownership_rate+np.log(total_population)'"
      ]
     },
     "execution_count": 96,
     "metadata": {},
     "output_type": "execute_result"
    }
   ],
   "source": [
    "##create the formula ,'prop_white','median_household_income',\n",
    "demo_vars = ['prop_asian', 'prop_black','prop_college_edu','poverty_rate', 'ownership_rate',\n",
    "             'np.log(total_population)']\n",
    "form3 = form2+ \"+\" + \"+\".join(demo_vars)\n",
    "form3"
   ]
  },
  {
   "cell_type": "code",
   "execution_count": 97,
   "metadata": {
    "collapsed": false
   },
   "outputs": [
    {
     "name": "stdout",
     "output_type": "stream",
     "text": [
      "                            OLS Regression Results                            \n",
      "==============================================================================\n",
      "Dep. Variable:     np.log(price_per_)   R-squared:                       0.171\n",
      "Model:                            OLS   Adj. R-squared:                  0.165\n",
      "Method:                 Least Squares   F-statistic:                     31.75\n",
      "Date:                Mon, 17 Apr 2017   Prob (F-statistic):          6.24e-142\n",
      "Time:                        23:58:38   Log-Likelihood:                -6468.8\n",
      "No. Observations:                4032   AIC:                         1.299e+04\n",
      "Df Residuals:                    4005   BIC:                         1.316e+04\n",
      "Df Model:                          26                                         \n",
      "Covariance Type:            nonrobust                                         \n",
      "============================================================================================\n",
      "                               coef    std err          t      P>|t|      [95.0% Conf. Int.]\n",
      "--------------------------------------------------------------------------------------------\n",
      "Intercept                    3.6548      0.335     10.895      0.000         2.997     4.312\n",
      "in_la[T.True]               -0.0269      0.136     -0.198      0.843        -0.294     0.240\n",
      "yr2005                       0.4630      0.104      4.431      0.000         0.258     0.668\n",
      "in_la[T.True]:yr2005         0.1184      0.117      1.009      0.313        -0.112     0.348\n",
      "yr2006                       0.5987      0.119      5.015      0.000         0.365     0.833\n",
      "in_la[T.True]:yr2006         0.0345      0.136      0.254      0.799        -0.231     0.300\n",
      "yr2007                       0.6231      0.116      5.392      0.000         0.397     0.850\n",
      "in_la[T.True]:yr2007         0.5865      0.125      4.686      0.000         0.341     0.832\n",
      "yr2008                       0.9076      0.127      7.154      0.000         0.659     1.156\n",
      "in_la[T.True]:yr2008         0.0931      0.144      0.647      0.518        -0.189     0.375\n",
      "yr2009                       0.2539      0.188      1.352      0.177        -0.114     0.622\n",
      "in_la[T.True]:yr2009         0.3814      0.226      1.690      0.091        -0.061     0.824\n",
      "yr2001                       0.1308      0.086      1.516      0.130        -0.038     0.300\n",
      "yr2002                       0.0766      0.084      0.913      0.361        -0.088     0.241\n",
      "yr2003                       0.2148      0.088      2.452      0.014         0.043     0.386\n",
      "yr2004                       0.2919      0.084      3.477      0.001         0.127     0.456\n",
      "baths                        0.0157      0.015      1.037      0.300        -0.014     0.045\n",
      "bedrooms                     0.0022      0.016      0.138      0.890        -0.030     0.034\n",
      "rooms                        0.0150      0.063      0.238      0.812        -0.109     0.139\n",
      "stories                     -0.0446      0.428     -0.104      0.917        -0.884     0.795\n",
      "units                        0.0016      0.001      2.645      0.008         0.000     0.003\n",
      "prop_asian                  -2.4770      0.280     -8.852      0.000        -3.026    -1.928\n",
      "prop_black                  -0.0893      0.309     -0.289      0.773        -0.695     0.516\n",
      "prop_college_edu             2.8727      0.351      8.183      0.000         2.184     3.561\n",
      "poverty_rate                -1.9318      1.379     -1.401      0.161        -4.635     0.771\n",
      "ownership_rate              -1.0969      0.413     -2.653      0.008        -1.908    -0.286\n",
      "np.log(total_population)     0.0360      0.044      0.824      0.410        -0.050     0.122\n",
      "==============================================================================\n",
      "Omnibus:                      142.106   Durbin-Watson:                   1.325\n",
      "Prob(Omnibus):                  0.000   Jarque-Bera (JB):              198.805\n",
      "Skew:                          -0.361   Prob(JB):                     6.76e-44\n",
      "Kurtosis:                       3.813   Cond. No.                     2.36e+03\n",
      "==============================================================================\n",
      "\n",
      "Warnings:\n",
      "[1] Standard Errors assume that the covariance matrix of the errors is correctly specified.\n",
      "[2] The condition number is large, 2.36e+03. This might indicate that there are\n",
      "strong multicollinearity or other numerical problems.\n"
     ]
    }
   ],
   "source": [
    "#fit the above model\n",
    "result = sm.ols(formula=form3, data=df_sub).fit()#cov_type='cluster',cov_kwds={'groups':df_sub['place']})\n",
    "print(result.summary())\n",
    "with open(\"/\".join([data_path, 'model3.tex']), 'w+') as f:\n",
    "    f.write(re.sub(\"_\", \"\\_\",result.summary().as_latex()))"
   ]
  },
  {
   "cell_type": "code",
   "execution_count": 98,
   "metadata": {
    "collapsed": false
   },
   "outputs": [
    {
     "data": {
      "text/plain": [
       "'np.log(price_per_)~in_la*yr2005+in_la*yr2006+in_la*yr2007+in_la*yr2008+in_la*yr2009+yr2001+yr2002+yr2003+yr2004+baths+bedrooms+rooms+stories+units+prop_asian+prop_black+prop_college_edu+poverty_rate+ownership_rate+np.log(total_population)+burbank+inglewood+long_beach+santa_monica+torrance'"
      ]
     },
     "execution_count": 98,
     "metadata": {},
     "output_type": "execute_result"
    }
   ],
   "source": [
    "form4 = form3 + \"+\"+\"+\".join([re.sub(\" \", '_',s) for s in  cities_w_trans ])\n",
    "form4"
   ]
  },
  {
   "cell_type": "code",
   "execution_count": 99,
   "metadata": {
    "collapsed": false
   },
   "outputs": [
    {
     "name": "stdout",
     "output_type": "stream",
     "text": [
      "                            OLS Regression Results                            \n",
      "==============================================================================\n",
      "Dep. Variable:     np.log(price_per_)   R-squared:                       0.177\n",
      "Model:                            OLS   Adj. R-squared:                  0.170\n",
      "Method:                 Least Squares   F-statistic:                     27.71\n",
      "Date:                Mon, 17 Apr 2017   Prob (F-statistic):          3.04e-144\n",
      "Time:                        23:58:56   Log-Likelihood:                -6454.3\n",
      "No. Observations:                4032   AIC:                         1.297e+04\n",
      "Df Residuals:                    4000   BIC:                         1.317e+04\n",
      "Df Model:                          31                                         \n",
      "Covariance Type:            nonrobust                                         \n",
      "============================================================================================\n",
      "                               coef    std err          t      P>|t|      [95.0% Conf. Int.]\n",
      "--------------------------------------------------------------------------------------------\n",
      "Intercept                    2.8746      0.396      7.256      0.000         2.098     3.651\n",
      "in_la[T.True]               -0.5330      0.230     -2.317      0.021        -0.984    -0.082\n",
      "yr2005                       0.5411      0.110      4.936      0.000         0.326     0.756\n",
      "in_la[T.True]:yr2005         0.1664      0.118      1.416      0.157        -0.064     0.397\n",
      "yr2006                       0.6842      0.124      5.507      0.000         0.441     0.928\n",
      "in_la[T.True]:yr2006         0.1021      0.136      0.749      0.454        -0.165     0.369\n",
      "yr2007                       0.7279      0.122      5.985      0.000         0.489     0.966\n",
      "in_la[T.True]:yr2007         0.6578      0.126      5.223      0.000         0.411     0.905\n",
      "yr2008                       0.9925      0.132      7.534      0.000         0.734     1.251\n",
      "in_la[T.True]:yr2008         0.1365      0.144      0.947      0.344        -0.146     0.419\n",
      "yr2009                       0.2963      0.188      1.577      0.115        -0.072     0.665\n",
      "in_la[T.True]:yr2009         0.4361      0.226      1.931      0.054        -0.007     0.879\n",
      "yr2001                       0.1507      0.087      1.728      0.084        -0.020     0.322\n",
      "yr2002                       0.1275      0.086      1.484      0.138        -0.041     0.296\n",
      "yr2003                       0.2842      0.091      3.123      0.002         0.106     0.463\n",
      "yr2004                       0.3767      0.089      4.215      0.000         0.201     0.552\n",
      "baths                        0.0157      0.015      1.041      0.298        -0.014     0.045\n",
      "bedrooms                     0.0024      0.016      0.151      0.880        -0.029     0.034\n",
      "rooms                        0.0193      0.063      0.306      0.759        -0.104     0.143\n",
      "stories                     -0.0760      0.427     -0.178      0.859        -0.914     0.762\n",
      "units                        0.0016      0.001      2.642      0.008         0.000     0.003\n",
      "prop_asian                  -2.5419      0.381     -6.674      0.000        -3.289    -1.795\n",
      "prop_black                   0.7663      0.723      1.060      0.289        -0.650     2.183\n",
      "prop_college_edu             3.6756      0.616      5.971      0.000         2.469     4.882\n",
      "poverty_rate                 3.0419      1.952      1.558      0.119        -0.785     6.869\n",
      "ownership_rate              -1.4246      0.510     -2.792      0.005        -2.425    -0.424\n",
      "np.log(total_population)     0.0448      0.054      0.833      0.405        -0.061     0.150\n",
      "burbank                      0.2058      0.134      1.533      0.125        -0.057     0.469\n",
      "inglewood                   -0.6212      0.298     -2.082      0.037        -1.206    -0.036\n",
      "long_beach                  -0.7484      0.181     -4.145      0.000        -1.102    -0.394\n",
      "santa_monica                -0.3116      0.266     -1.172      0.241        -0.833     0.210\n",
      "torrance                     0.1768      0.164      1.075      0.282        -0.146     0.499\n",
      "==============================================================================\n",
      "Omnibus:                      154.184   Durbin-Watson:                   1.335\n",
      "Prob(Omnibus):                  0.000   Jarque-Bera (JB):              221.604\n",
      "Skew:                          -0.375   Prob(JB):                     7.57e-49\n",
      "Kurtosis:                       3.870   Cond. No.                     3.30e+03\n",
      "==============================================================================\n",
      "\n",
      "Warnings:\n",
      "[1] Standard Errors assume that the covariance matrix of the errors is correctly specified.\n",
      "[2] The condition number is large, 3.3e+03. This might indicate that there are\n",
      "strong multicollinearity or other numerical problems.\n"
     ]
    }
   ],
   "source": [
    "#fit the above model\n",
    "result = sm.ols(formula=form4, data=df_sub).fit()#cov_type='cluster',cov_kwds={'groups':df_sub['place']})\n",
    "print(result.summary())\n",
    "with open(\"/\".join([data_path, 'model4.tex']), 'w+') as f:\n",
    "    f.write(re.sub(\"_\", \"\\_\",result.summary().as_latex()))"
   ]
  },
  {
   "cell_type": "markdown",
   "metadata": {
    "collapsed": false
   },
   "source": [
    "## Models 5 - pairwise differences (contiguous area differences)\n",
    "- without ACS data, we can leverage a larger sample\n",
    "- ACS data will serve as a robustness check. "
   ]
  },
  {
   "cell_type": "code",
   "execution_count": 69,
   "metadata": {
    "collapsed": false
   },
   "outputs": [
    {
     "data": {
      "text/plain": [
       "['LomiPair',\n",
       " 'TorrPair',\n",
       " 'BevePair',\n",
       " 'InglPair',\n",
       " 'WestPair',\n",
       " 'HawtPair',\n",
       " 'GardPair',\n",
       " 'SantPair']"
      ]
     },
     "execution_count": 69,
     "metadata": {},
     "output_type": "execute_result"
    }
   ],
   "source": [
    "[s for s in pair_col_titles if (s!= 'ElSePair') & (s!= \"CalaPair\")]"
   ]
  },
  {
   "cell_type": "code",
   "execution_count": 82,
   "metadata": {
    "collapsed": false
   },
   "outputs": [
    {
     "name": "stdout",
     "output_type": "stream",
     "text": [
      "number of covars: 87\n",
      "np.log(price_per_)~+in_la*after04+baths+bedrooms+rooms+stories+units+yr2002:LomiPair+yr2003:LomiPair+yr2004:LomiPair+yr2005:LomiPair+yr2006:LomiPair+yr2007:LomiPair+yr2008:LomiPair+yr2009:LomiPair+yr2010:LomiPair+yr2011:LomiPair+yr2002:TorrPair+yr2003:TorrPair+yr2004:TorrPair+yr2005:TorrPair+yr2006:TorrPair+yr2007:TorrPair+yr2008:TorrPair+yr2009:TorrPair+yr2010:TorrPair+yr2011:TorrPair+yr2002:BevePair+yr2003:BevePair+yr2004:BevePair+yr2005:BevePair+yr2006:BevePair+yr2007:BevePair+yr2008:BevePair+yr2009:BevePair+yr2010:BevePair+yr2011:BevePair+yr2002:InglPair+yr2003:InglPair+yr2004:InglPair+yr2005:InglPair+yr2006:InglPair+yr2007:InglPair+yr2008:InglPair+yr2009:InglPair+yr2010:InglPair+yr2011:InglPair+yr2002:WestPair+yr2003:WestPair+yr2004:WestPair+yr2005:WestPair+yr2006:WestPair+yr2007:WestPair+yr2008:WestPair+yr2009:WestPair+yr2010:WestPair+yr2011:WestPair+yr2002:HawtPair+yr2003:HawtPair+yr2004:HawtPair+yr2005:HawtPair+yr2006:HawtPair+yr2007:HawtPair+yr2008:HawtPair+yr2009:HawtPair+yr2010:HawtPair+yr2011:HawtPair+yr2002:GardPair+yr2003:GardPair+yr2004:GardPair+yr2005:GardPair+yr2006:GardPair+yr2007:GardPair+yr2008:GardPair+yr2009:GardPair+yr2010:GardPair+yr2011:GardPair+yr2002:SantPair+yr2003:SantPair+yr2004:SantPair+yr2005:SantPair+yr2006:SantPair+yr2007:SantPair+yr2008:SantPair+yr2009:SantPair+yr2010:SantPair+yr2011:SantPair\n"
     ]
    }
   ],
   "source": [
    "form1 = 'np.log(price_per_)~' + \"+\".join(['in_la*yr'+str(n) for n in range(2005,2012)])\n",
    "form1 = 'np.log(price_per_)~' + \"+\" + 'in_la*after04'\n",
    "#form1 = form1 + \"+\" + \"+\".join(['yr'+str(y) for y in range(2002,2005)])\n",
    "#,'yrbuilt','lot_size'#'baths','bedrooms','rooms','stories','units',\n",
    "form2 = form1 +'+' +\"+\".join(['baths','bedrooms','rooms','stories','units'])\n",
    "pair_interactions = ['yr'+str(yr)+\":\"+pair for pair in [s for s in pair_col_titles if (s!= 'ElSePair') & (s!= \"CalaPair\")] for yr in range(2002,2012)]\n",
    "\n",
    "#\"+\".join(['*yr'+str(n) for n in range(2005,2013)])\n",
    "form5 = form2 + '+'+\"+\".join(pair_interactions)\n",
    "print(\"number of covars: %d\" %len(form5.split(\"+\")))\n",
    "print(form5)"
   ]
  },
  {
   "cell_type": "code",
   "execution_count": 83,
   "metadata": {
    "collapsed": false
   },
   "outputs": [
    {
     "name": "stdout",
     "output_type": "stream",
     "text": [
      "                            OLS Regression Results                            \n",
      "==============================================================================\n",
      "Dep. Variable:     np.log(price_per_)   R-squared:                       0.190\n",
      "Model:                            OLS   Adj. R-squared:                  0.179\n",
      "Method:                 Least Squares   F-statistic:                     17.18\n",
      "Date:                Mon, 17 Apr 2017   Prob (F-statistic):          5.67e-226\n",
      "Time:                        23:39:02   Log-Likelihood:                -10645.\n",
      "No. Observations:                6473   AIC:                         2.147e+04\n",
      "Df Residuals:                    6385   BIC:                         2.206e+04\n",
      "Df Model:                          87                                         \n",
      "Covariance Type:            nonrobust                                         \n",
      "=========================================================================================\n",
      "                            coef    std err          t      P>|t|      [95.0% Conf. Int.]\n",
      "-----------------------------------------------------------------------------------------\n",
      "Intercept                 4.0399      0.041     99.328      0.000         3.960     4.120\n",
      "in_la[T.True]             0.0294      0.056      0.530      0.596        -0.079     0.138\n",
      "after04                   0.7679      0.083      9.308      0.000         0.606     0.930\n",
      "in_la[T.True]:after04     0.2801      0.116      2.422      0.015         0.053     0.507\n",
      "baths                     0.0129      0.010      1.311      0.190        -0.006     0.032\n",
      "bedrooms                 -0.0010      0.011     -0.095      0.924        -0.022     0.020\n",
      "rooms                     0.0479      0.055      0.874      0.382        -0.060     0.155\n",
      "stories                  -0.1977      0.363     -0.544      0.587        -0.910     0.515\n",
      "units                     0.0013      0.000      2.660      0.008         0.000     0.002\n",
      "yr2002:LomiPair          -0.0621      0.094     -0.658      0.511        -0.247     0.123\n",
      "yr2003:LomiPair          -0.0055      0.095     -0.058      0.954        -0.192     0.181\n",
      "yr2004:LomiPair           0.1465      0.087      1.688      0.091        -0.024     0.317\n",
      "yr2005:LomiPair          -0.6083      0.105     -5.808      0.000        -0.814    -0.403\n",
      "yr2006:LomiPair          -0.5066      0.113     -4.496      0.000        -0.727    -0.286\n",
      "yr2007:LomiPair           0.0901      0.109      0.827      0.409        -0.124     0.304\n",
      "yr2008:LomiPair          -0.1600      0.118     -1.354      0.176        -0.392     0.072\n",
      "yr2009:LomiPair          -0.6006      0.154     -3.897      0.000        -0.903    -0.298\n",
      "yr2010:LomiPair          -0.3317      0.165     -2.016      0.044        -0.654    -0.009\n",
      "yr2011:LomiPair          -0.2780      0.132     -2.106      0.035        -0.537    -0.019\n",
      "yr2002:TorrPair          -0.1785      0.230     -0.775      0.438        -0.630     0.273\n",
      "yr2003:TorrPair          -0.3641      0.224     -1.624      0.104        -0.804     0.075\n",
      "yr2004:TorrPair           0.2347      0.285      0.823      0.411        -0.324     0.794\n",
      "yr2005:TorrPair          -0.9737      0.212     -4.586      0.000        -1.390    -0.557\n",
      "yr2006:TorrPair          -0.2442      0.222     -1.099      0.272        -0.680     0.191\n",
      "yr2007:TorrPair          -0.3396      0.228     -1.489      0.136        -0.787     0.107\n",
      "yr2008:TorrPair          -0.2542      0.258     -0.986      0.324        -0.759     0.251\n",
      "yr2009:TorrPair          -0.8794      0.387     -2.271      0.023        -1.638    -0.120\n",
      "yr2010:TorrPair          -0.9053      0.405     -2.233      0.026        -1.700    -0.111\n",
      "yr2011:TorrPair          -0.5408      0.357     -1.514      0.130        -1.241     0.160\n",
      "yr2002:BevePair          -0.7058      0.228     -3.099      0.002        -1.152    -0.259\n",
      "yr2003:BevePair           0.1034      0.299      0.346      0.730        -0.483     0.690\n",
      "yr2004:BevePair          -0.9423      0.285     -3.312      0.001        -1.500    -0.385\n",
      "yr2005:BevePair           0.3838      0.241      1.593      0.111        -0.089     0.856\n",
      "yr2006:BevePair          -0.0938      0.347     -0.270      0.787        -0.775     0.587\n",
      "yr2007:BevePair          -0.4503      0.298     -1.514      0.130        -1.034     0.133\n",
      "yr2008:BevePair           0.1714      0.337      0.508      0.611        -0.490     0.832\n",
      "yr2009:BevePair           1.6495      0.997      1.654      0.098        -0.306     3.605\n",
      "yr2010:BevePair           3.1345      0.762      4.114      0.000         1.641     4.628\n",
      "yr2011:BevePair           0.4638      0.166      2.793      0.005         0.138     0.789\n",
      "yr2002:InglPair          -0.1047      0.242     -0.433      0.665        -0.579     0.369\n",
      "yr2003:InglPair          -0.0240      0.251     -0.096      0.924        -0.516     0.467\n",
      "yr2004:InglPair          -0.0836      0.209     -0.401      0.689        -0.493     0.325\n",
      "yr2005:InglPair          -0.6574      0.199     -3.295      0.001        -1.048    -0.266\n",
      "yr2006:InglPair          -0.6717      0.249     -2.698      0.007        -1.160    -0.184\n",
      "yr2007:InglPair          -0.4327      0.228     -1.898      0.058        -0.880     0.014\n",
      "yr2008:InglPair          -0.0773      0.238     -0.325      0.745        -0.543     0.389\n",
      "yr2009:InglPair          -0.6992      0.234     -2.983      0.003        -1.159    -0.240\n",
      "yr2010:InglPair          -0.8068      0.225     -3.585      0.000        -1.248    -0.366\n",
      "yr2011:InglPair          -0.7317      0.222     -3.293      0.001        -1.167    -0.296\n",
      "yr2002:WestPair          -0.2497      0.557     -0.448      0.654        -1.342     0.843\n",
      "yr2003:WestPair           1.2338      0.584      2.112      0.035         0.089     2.379\n",
      "yr2004:WestPair          -1.0882      0.560     -1.944      0.052        -2.185     0.009\n",
      "yr2005:WestPair           0.9654      0.354      2.727      0.006         0.271     1.659\n",
      "yr2006:WestPair          -0.8652      0.533     -1.623      0.105        -1.910     0.180\n",
      "yr2007:WestPair          -0.4948      0.396     -1.250      0.211        -1.271     0.281\n",
      "yr2008:WestPair           0.5462      0.527      1.037      0.300        -0.487     1.579\n",
      "yr2009:WestPair           2.6672      0.986      2.704      0.007         0.734     4.601\n",
      "yr2010:WestPair           2.8446      0.773      3.681      0.000         1.330     4.359\n",
      "yr2011:WestPair           0.2659      0.167      1.588      0.112        -0.062     0.594\n",
      "yr2002:HawtPair           1.1988      0.289      4.146      0.000         0.632     1.766\n",
      "yr2003:HawtPair           0.7577      0.467      1.624      0.104        -0.157     1.672\n",
      "yr2004:HawtPair           2.8034      0.473      5.927      0.000         1.876     3.731\n",
      "yr2005:HawtPair           0.3772      0.295      1.279      0.201        -0.201     0.955\n",
      "yr2006:HawtPair           1.6827      0.465      3.618      0.000         0.771     2.595\n",
      "yr2007:HawtPair           2.2298      0.350      6.375      0.000         1.544     2.915\n",
      "yr2008:HawtPair           0.9548      0.393      2.429      0.015         0.184     1.725\n",
      "yr2009:HawtPair          -1.2045      0.895     -1.346      0.178        -2.959     0.550\n",
      "yr2010:HawtPair          -1.5677      0.732     -2.142      0.032        -3.003    -0.133\n",
      "yr2011:HawtPair           0.7297      0.115      6.355      0.000         0.505     0.955\n",
      "yr2002:GardPair          -0.5544      0.192     -2.881      0.004        -0.932    -0.177\n",
      "yr2003:GardPair          -0.3010      0.183     -1.641      0.101        -0.661     0.059\n",
      "yr2004:GardPair           0.0409      0.169      0.241      0.809        -0.291     0.373\n",
      "yr2005:GardPair          -0.7970      0.166     -4.806      0.000        -1.122    -0.472\n",
      "yr2006:GardPair          -0.6757      0.237     -2.849      0.004        -1.141    -0.211\n",
      "yr2007:GardPair          -0.6605      0.189     -3.499      0.000        -1.031    -0.290\n",
      "yr2008:GardPair          -0.3890      0.212     -1.835      0.067        -0.805     0.027\n",
      "yr2009:GardPair          -0.1064      0.291     -0.365      0.715        -0.677     0.465\n",
      "yr2010:GardPair          -0.8634      0.334     -2.588      0.010        -1.517    -0.209\n",
      "yr2011:GardPair          -0.1985      0.285     -0.698      0.485        -0.756     0.359\n",
      "yr2002:SantPair           0.6202      0.266      2.330      0.020         0.098     1.142\n",
      "yr2003:SantPair           0.4305      0.243      1.775      0.076        -0.045     0.906\n",
      "yr2004:SantPair           0.9481      0.272      3.486      0.000         0.415     1.481\n",
      "yr2005:SantPair           0.2541      0.202      1.260      0.208        -0.141     0.650\n",
      "yr2006:SantPair           0.5797      0.244      2.371      0.018         0.100     1.059\n",
      "yr2007:SantPair           0.8385      0.224      3.736      0.000         0.398     1.278\n",
      "yr2008:SantPair          -0.0970      0.205     -0.472      0.637        -0.500     0.306\n",
      "yr2009:SantPair          -0.5010      0.262     -1.909      0.056        -1.015     0.013\n",
      "yr2010:SantPair           0.1933      0.307      0.630      0.529        -0.408     0.795\n",
      "yr2011:SantPair          -0.1771      0.267     -0.663      0.508        -0.701     0.347\n",
      "==============================================================================\n",
      "Omnibus:                       90.288   Durbin-Watson:                   1.146\n",
      "Prob(Omnibus):                  0.000   Jarque-Bera (JB):              160.351\n",
      "Skew:                          -0.069   Prob(JB):                     1.51e-35\n",
      "Kurtosis:                       3.759   Cond. No.                     2.25e+15\n",
      "==============================================================================\n",
      "\n",
      "Warnings:\n",
      "[1] Standard Errors assume that the covariance matrix of the errors is correctly specified.\n",
      "[2] The smallest eigenvalue is 1.37e-24. This might indicate that there are\n",
      "strong multicollinearity problems or that the design matrix is singular.\n"
     ]
    }
   ],
   "source": [
    "#fit the above model\n",
    "result = sm.ols(formula=form5, data=df_sub).fit()\n",
    "print(result.summary())\n",
    "with open(\"/\".join([data_path, 'model5.tex']), 'w+') as f:\n",
    "    f.write(re.sub(\"_\", \"\\_\",result.summary().as_latex()))"
   ]
  },
  {
   "cell_type": "code",
   "execution_count": 33,
   "metadata": {
    "collapsed": false
   },
   "outputs": [
    {
     "data": {
      "text/plain": [
       "Index(['HiddPair', 'RancPair', 'LomiPair', 'LongPair', 'CarsPair', 'TorrPair',\n",
       "       'GardPair', 'CompPair', 'ElSPair', 'HawtPair', 'LynwPair', 'SoutPair',\n",
       "       'InglPair', 'HuntPair', 'BellPair', 'VernPair', 'CommPair', 'MontPair',\n",
       "       'SantPair', 'MaliPair', 'WestPair', 'AlhaPair', 'BevePair', 'CalaPair',\n",
       "       'BurbPair'],\n",
       "      dtype='object')"
      ]
     },
     "execution_count": 33,
     "metadata": {},
     "output_type": "execute_result"
    }
   ],
   "source": [
    "pairDums.columns"
   ]
  },
  {
   "cell_type": "code",
   "execution_count": 25,
   "metadata": {
    "collapsed": false
   },
   "outputs": [
    {
     "data": {
      "text/plain": [
       "{'Beverly Hills-Los Angeles',\n",
       " 'Calabasas-Los Angeles',\n",
       " 'El Segundo-Los Angeles',\n",
       " 'Gardena-Los Angeles',\n",
       " 'Hawthorne-Los Angeles',\n",
       " 'Inglewood-Los Angeles',\n",
       " 'Lomita-Los Angeles',\n",
       " 'Santa Monica-Los Angeles',\n",
       " 'Torrance-Los Angeles',\n",
       " 'West Hollywood-Los Angeles'}"
      ]
     },
     "execution_count": 25,
     "metadata": {},
     "output_type": "execute_result"
    }
   ],
   "source": [
    "set([s+\"-Los Angeles\" for s in cities_w_data4all]).intersection(pair_city_list)"
   ]
  },
  {
   "cell_type": "code",
   "execution_count": 26,
   "metadata": {
    "collapsed": false
   },
   "outputs": [
    {
     "data": {
      "text/plain": [
       "{'Beverly Hills',\n",
       " 'Calabasas',\n",
       " 'El Segundo',\n",
       " 'Gardena',\n",
       " 'Hawthorne',\n",
       " 'Inglewood',\n",
       " 'Lomita',\n",
       " 'Santa Monica',\n",
       " 'Torrance',\n",
       " 'West Hollywood'}"
      ]
     },
     "execution_count": 26,
     "metadata": {},
     "output_type": "execute_result"
    }
   ],
   "source": [
    "set([re.sub(\"-Los Angeles\", \"\", s) for s in pair_city_list]).intersection(cities_w_data4all)"
   ]
  },
  {
   "cell_type": "code",
   "execution_count": null,
   "metadata": {
    "collapsed": true
   },
   "outputs": [],
   "source": []
  }
 ],
 "metadata": {
  "anaconda-cloud": {},
  "kernelspec": {
   "display_name": "Python [Root]",
   "language": "python",
   "name": "Python [Root]"
  },
  "language_info": {
   "codemirror_mode": {
    "name": "ipython",
    "version": 3
   },
   "file_extension": ".py",
   "mimetype": "text/x-python",
   "name": "python",
   "nbconvert_exporter": "python",
   "pygments_lexer": "ipython3",
   "version": "3.5.1"
  }
 },
 "nbformat": 4,
 "nbformat_minor": 0
}
